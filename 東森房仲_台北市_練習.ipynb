{
 "cells": [
  {
   "cell_type": "code",
   "execution_count": 6,
   "metadata": {
    "collapsed": false
   },
   "outputs": [
    {
     "name": "stdout",
     "output_type": "stream",
     "text": [
      "2682\n",
      "179\n"
     ]
    }
   ],
   "source": [
    "import requests\n",
    "from bs4 import BeautifulSoup\n",
    "from math import ceil\n",
    "\n",
    "res = requests.get('http://home.etwarm.com.tw/object_search.php?p=2&pap=&mo=&orderby=price&ettype=SALES&ci=%E5%8F%B0%E5%8C%97%E5%B8%82%2C&pr1=%E4%B8%8D%E9%99%90&pr2=%E4%B8%8D%E9%99%90&pa1=%E4%B8%8D%E9%99%90&pa2=%E4%B8%8D%E9%99%90&t=&pi1=%E4%B8%8D%E9%99%90&pi2=%E4%B8%8D%E9%99%90&q=%E8%AB%8B%E8%BC%B8%E5%85%A5%E9%97%9C%E9%8D%B5%E5%AD%97%EF%BC%8C%E5%8F%AF%E4%B8%8D%E5%A1%AB&pk=&old1=%E4%B8%8D%E9%99%90&old2=%E4%B8%8D%E9%99%90')\n",
    "#print res.text\n",
    "soup = BeautifulSoup(res.text)\n",
    "\n",
    "#for ele in soup.select('.f-ok-n'):\n",
    "    #print ele.text.encode('utf8').split('：')[0].decode('utf8')\n",
    "    #print ele.text.encode('utf8').split('：')[1]\n",
    "    # encode('utf8'): 將非utf8的文字轉成utf8編碼，才認得全形的':'，\n",
    "    # decode('utf8'): 用utf8編碼的':'來split，split後仍是原編碼(ASCII)的文字，若要顯示，要解碼(decode)為utf8編碼，python\n",
    "    #page_all = int(ele.text.encode('utf8').split('：')[1])\n",
    "    #print page_all\n",
    "\n",
    "# get pages of cases:15 cases per page\n",
    "cases = soup.select('.f-ok-n')[0].text.encode('utf8').split('：')[1]\n",
    "pages = int(ceil(float(cases)/15))\n",
    "print cases\n",
    "print pages"
   ]
  },
  {
   "cell_type": "code",
   "execution_count": 19,
   "metadata": {
    "collapsed": false
   },
   "outputs": [
    {
     "name": "stdout",
     "output_type": "stream",
     "text": [
      "http://home.etwarm.com.tw/sale-359032\n",
      "http://home.etwarm.com.tw/sale-316563\n",
      "http://home.etwarm.com.tw/sale-212497\n",
      "http://home.etwarm.com.tw/sale-230212\n",
      "http://home.etwarm.com.tw/sale-294743\n",
      "http://home.etwarm.com.tw/sale-244882\n",
      "http://home.etwarm.com.tw/sale-330622\n",
      "http://home.etwarm.com.tw/sale-330635\n",
      "http://home.etwarm.com.tw/sale-355919\n",
      "http://home.etwarm.com.tw/sale-316699\n",
      "http://home.etwarm.com.tw/sale-336049\n",
      "http://home.etwarm.com.tw/sale-331700\n",
      "http://home.etwarm.com.tw/sale-362114\n",
      "http://home.etwarm.com.tw/sale-330656\n",
      "http://home.etwarm.com.tw/sale-351860\n"
     ]
    }
   ],
   "source": [
    "for ele in soup.select('.Search-Ob-all a'):\n",
    "    if len(ele.text) > 0:\n",
    "        print 'http://home.etwarm.com.tw'+ele['href'][1:]"
   ]
  },
  {
   "cell_type": "code",
   "execution_count": 26,
   "metadata": {
    "collapsed": false
   },
   "outputs": [],
   "source": [
    "# 將每頁連結存入檔案\n",
    "f = open('etwarm/etwarm.txt','w')\n",
    "page_format = 'http://home.etwarm.com.tw/object_search.php?p={}&pap=&mo=&orderby=price&ettype=SALES&ci=%E5%8F%B0%E5%8C%97%E5%B8%82%2C&pr1=%E4%B8%8D%E9%99%90&pr2=%E4%B8%8D%E9%99%90&pa1=%E4%B8%8D%E9%99%90&pa2=%E4%B8%8D%E9%99%90&t=&pi1=%E4%B8%8D%E9%99%90&pi2=%E4%B8%8D%E9%99%90&q=%E8%AB%8B%E8%BC%B8%E5%85%A5%E9%97%9C%E9%8D%B5%E5%AD%97%EF%BC%8C%E5%8F%AF%E4%B8%8D%E5%A1%AB&pk=&old1=%E4%B8%8D%E9%99%90&old2=%E4%B8%8D%E9%99%90'\n",
    "for page in range(1, pages +1):\n",
    "    res = requests.get(page_format.format(page))\n",
    "    #print page +'finished.'\n",
    "    soup = BeautifulSoup(res.text)\n",
    "    for ele in soup.select('.Search-Ob-all a'):\n",
    "        if len(ele.text) > 0:\n",
    "            #print 'http://home.etwarm.com.tw'+ele['href'][1:]\n",
    "            f.write('http://home.etwarm.com.tw'+ele['href'][1:]+'\\n')\n",
    "f.close()"
   ]
  },
  {
   "cell_type": "code",
   "execution_count": 37,
   "metadata": {
    "collapsed": false
   },
   "outputs": [
    {
     "name": "stdout",
     "output_type": "stream",
     "text": [
      "2685\n"
     ]
    }
   ],
   "source": [
    "#確認資料筆數是否相符、是否有重複\n",
    "line_c = 0\n",
    "file_name = ''\n",
    "f = open('etwarm/etwarm.txt','r')\n",
    "for line in f.readlines():  \n",
    "    line_c = line_c + 1\n",
    "f.close()\n",
    "print line_c #2685"
   ]
  },
  {
   "cell_type": "code",
   "execution_count": 39,
   "metadata": {
    "collapsed": false
   },
   "outputs": [],
   "source": [
    "# 讀取url，並取得html存入檔案\n",
    "f = open('etwarm/etwarm.txt','r')\n",
    "for line in f.readlines():\n",
    "    res = requests.get(line)\n",
    "    file_name = line.split('-')[1].strip()\n",
    "    #print file_name\n",
    "    input_file = open('etwarm/'+file_name+'.txt', 'w')\n",
    "    input_file.write(res.text.encode('utf8'))\n",
    "    input_file.close()\n",
    "f.close()"
   ]
  },
  {
   "cell_type": "code",
   "execution_count": null,
   "metadata": {
    "collapsed": true
   },
   "outputs": [],
   "source": [
    "# final 版本\n",
    "import requests\n",
    "from bs4 import BeautifulSoup\n",
    "from math import ceil\n",
    "\n",
    "res = requests.get('http://home.etwarm.com.tw/object_search.php?p=2&pap=&mo=&orderby=price&ettype=SALES&ci=%E5%8F%B0%E5%8C%97%E5%B8%82%2C&pr1=%E4%B8%8D%E9%99%90&pr2=%E4%B8%8D%E9%99%90&pa1=%E4%B8%8D%E9%99%90&pa2=%E4%B8%8D%E9%99%90&t=&pi1=%E4%B8%8D%E9%99%90&pi2=%E4%B8%8D%E9%99%90&q=%E8%AB%8B%E8%BC%B8%E5%85%A5%E9%97%9C%E9%8D%B5%E5%AD%97%EF%BC%8C%E5%8F%AF%E4%B8%8D%E5%A1%AB&pk=&old1=%E4%B8%8D%E9%99%90&old2=%E4%B8%8D%E9%99%90')\n",
    "soup = BeautifulSoup(res.text)\n",
    "\n",
    "# 取得資料總筆數、總共頁數:15 cases per page\n",
    "cases = soup.select('.f-ok-n')[0].text.encode('utf8').split('：')[1]\n",
    "pages = int(ceil(float(cases)/15))\n",
    "print cases\n",
    "print pages\n",
    "\n",
    "# 將每頁連結存入檔案\n",
    "f = open('etwarm.txt','w')\n",
    "page_format = 'http://home.etwarm.com.tw/object_search.php?p={}&pap=&mo=&orderby=price&ettype=SALES&ci=%E5%8F%B0%E5%8C%97%E5%B8%82%2C&pr1=%E4%B8%8D%E9%99%90&pr2=%E4%B8%8D%E9%99%90&pa1=%E4%B8%8D%E9%99%90&pa2=%E4%B8%8D%E9%99%90&t=&pi1=%E4%B8%8D%E9%99%90&pi2=%E4%B8%8D%E9%99%90&q=%E8%AB%8B%E8%BC%B8%E5%85%A5%E9%97%9C%E9%8D%B5%E5%AD%97%EF%BC%8C%E5%8F%AF%E4%B8%8D%E5%A1%AB&pk=&old1=%E4%B8%8D%E9%99%90&old2=%E4%B8%8D%E9%99%90'\n",
    "for page in range(1, pages +1):\n",
    "    res = requests.get(page_format.format(page))\n",
    "    print page +'finished.'\n",
    "    soup = BeautifulSoup(res.text)\n",
    "    for ele in soup.select('.Search-Ob-all a'):\n",
    "        if len(ele.text) > 0:\n",
    "            #print 'http://home.etwarm.com.tw'+ele['href'][1:]\n",
    "            f.write('http://home.etwarm.com.tw'+ele['href'][1:]+'\\n')\n",
    "f.close()\n",
    "\n",
    "# 讀取url，並取得html存入檔案\n",
    "f = open('etwarm/etwarm.txt','r')\n",
    "for line in f.readlines():\n",
    "    res = requests.get(line)\n",
    "    file_name = line.split('-')[1].strip()\n",
    "    input_file = open('etwarm/'+file_name+'.txt', 'w')\n",
    "    input_file.write(res.text.encode('utf8'))\n",
    "    input_file.close()\n",
    "f.close()"
   ]
  }
 ],
 "metadata": {
  "kernelspec": {
   "display_name": "Python 2",
   "language": "python",
   "name": "python2"
  },
  "language_info": {
   "codemirror_mode": {
    "name": "ipython",
    "version": 2
   },
   "file_extension": ".py",
   "mimetype": "text/x-python",
   "name": "python",
   "nbconvert_exporter": "python",
   "pygments_lexer": "ipython2",
   "version": "2.7.10"
  }
 },
 "nbformat": 4,
 "nbformat_minor": 0
}
