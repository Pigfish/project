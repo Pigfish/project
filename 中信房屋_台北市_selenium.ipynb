{
 "cells": [
  {
   "cell_type": "markdown",
   "metadata": {},
   "source": [
    "use selenium \n",
    "\n",
    "ref: \n",
    "http://selenium-python.readthedocs.org/en/latest/getting-started.html    "
   ]
  },
  {
   "cell_type": "markdown",
   "metadata": {},
   "source": [
    "中信房屋\n",
    "http://www.cthouse.com.tw/BuyingHouse/01"
   ]
  },
  {
   "cell_type": "code",
   "execution_count": 39,
   "metadata": {
    "collapsed": false,
    "scrolled": true
   },
   "outputs": [
    {
     "name": "stdout",
     "output_type": "stream",
     "text": [
      "/house/1102547\n",
      "/house/1101703\n",
      "/house/1067172\n",
      "/house/1067188\n",
      "/house/1065536\n",
      "/house/1065591\n",
      "/house/1065629\n",
      "/house/1062361\n",
      "/House/1063893\n",
      "/House/1063421\n",
      "/House/1062396\n",
      "/House/1060618\n",
      "/House/1058627\n",
      "/House/1059020\n",
      "/House/1058657\n",
      "/House/1054810\n",
      "/House/945797\n",
      "/House/1019011\n",
      "/House/1025514\n",
      "/House/1038470\n",
      "/House/1048780\n",
      "/House/1105328\n",
      "/House/1105453\n",
      "/House/1105525\n",
      "/House/1105555\n",
      "/House/1105609\n",
      "/House/1105623\n",
      "/House/1105654\n",
      "/House/1105778\n",
      "/House/1105991\n",
      "/House/1106063\n",
      "/House/1106191\n",
      "/House/1106235\n",
      "/House/1106973\n",
      "/House/1104994\n",
      "/House/1105137\n",
      "/House/1105215\n",
      "/House/1105237\n",
      "/House/1105259\n",
      "/House/1104428\n"
     ]
    }
   ],
   "source": [
    "from selenium.webdriver.common.by import By\n",
    "import selenium.webdriver as webdriver\n",
    "import time\n",
    "\n",
    "import requests\n",
    "from bs4 import BeautifulSoup\n",
    "from math import ceil\n",
    "\n",
    "\n",
    "driver = webdriver.Firefox()\n",
    "driver.get(\"http://www.cthouse.com.tw/BuyingHouse/01\")\n",
    "\n",
    "for i in range (1,5):\n",
    "    driver.execute_script(\"window.scrollTo(0, document.body.scrollHeight);\")\n",
    "    #driver.execute_script(\"window.scrollTo(0, 10000);\")\n",
    "    time.sleep(2)\n",
    "    \n",
    "soup = BeautifulSoup(driver.page_source)\n",
    "for ele in soup.select('.search_list a'):\n",
    "    #print ele\n",
    "    if len(ele.text.strip()) == 0:\n",
    "        if len(ele['href']) < 16:\n",
    "            print ele['href']\n",
    "        \n",
    "driver.quit()\n"
   ]
  },
  {
   "cell_type": "markdown",
   "metadata": {},
   "source": [
    "from selenium import webdriver\n",
    "from selenium.webdriver.common.keys import Keys\n",
    "\n",
    "driver = webdriver.Firefox()\n",
    "driver.get(\"http://www.python.org\")\n",
    "assert \"Python\" in driver.title\n",
    "elem = driver.find_element_by_name(\"q\")\n",
    "\n",
    "elem.send_keys(\"pycon\")\n",
    "elem.send_keys(Keys.RETURN)\n",
    "assert \"No results found.\" not in driver.page_source\n",
    "driver.close()"
   ]
  },
  {
   "cell_type": "code",
   "execution_count": null,
   "metadata": {
    "collapsed": true
   },
   "outputs": [],
   "source": [
    "from selenium import webdriver\n",
    "from selenium.webdriver.common.keys import Keys\n",
    "\n",
    "driver = webdriver.Firefox()\n",
    "driver.get(\"http://www.cthouse.com.tw/BuyingHouse/01\")\n",
    "\n",
    "assert \"Python\" in driver.title\n",
    "\n",
    "elem = driver.find_element_by_name(\"q\")\n",
    "elem.send_keys(\"pycon\")\n",
    "elem.send_keys(Keys.RETURN)\n",
    "\n",
    "assert \"No results found.\" not in driver.page_source\n",
    "\n",
    "driver.close()\n",
    "\n"
   ]
  }
 ],
 "metadata": {
  "kernelspec": {
   "display_name": "Python 2",
   "language": "python",
   "name": "python2"
  },
  "language_info": {
   "codemirror_mode": {
    "name": "ipython",
    "version": 2
   },
   "file_extension": ".py",
   "mimetype": "text/x-python",
   "name": "python",
   "nbconvert_exporter": "python",
   "pygments_lexer": "ipython2",
   "version": "2.7.10"
  }
 },
 "nbformat": 4,
 "nbformat_minor": 0
}
