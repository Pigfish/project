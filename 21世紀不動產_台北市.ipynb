{
 "cells": [
  {
   "cell_type": "code",
   "execution_count": null,
   "metadata": {
    "collapsed": true
   },
   "outputs": [],
   "source": [
    "# final 版本\n",
    "import requests\n",
    "from bs4 import BeautifulSoup\n",
    "from math import ceil\n",
    "\n",
    "headers = {'Cookie':'CrazyVer=11; pwIndex=1; ASP.NET_SessionId=1onesy0nuomt5kwq5b4hfkyv; CacheID=7631750194884549795; _dc_gtm_UA-60452129-1=1; showStatus=1; __asc=ea79dab214ef9669302e4fdcee0; __auc=ea79dab214ef9669302e4fdcee0; _ga=GA1.3.271296392.1438703339'}\n",
    "url = 'http://www.century21.com.tw/index/House/Buy?search=621327&list=list&page=1'\n",
    "res = requests.get(url, headers = headers)\n",
    "soup = BeautifulSoup(res.text)\n",
    "        \n",
    "# 取得資料總筆數、總共頁數:20 cases per page\n",
    "cases = soup.select('.condition span')[1].text\n",
    "pages = int(ceil(float(cases)/20))\n",
    "\n",
    "# 將每頁連結存入檔案\n",
    "f = open('century21/century21.txt','w')\n",
    "page_format = 'http://www.century21.com.tw/index/House/Buy?search=621327&list=list&page={}'\n",
    "for page in range(1, pages +1):\n",
    "    res = requests.get(page_format.format(page))\n",
    "    print page\n",
    "    soup = BeautifulSoup(res.text)\n",
    "    for ele in soup.select('.w-5 a'):\n",
    "        if len(ele.text.strip()) == 0:\n",
    "            f.write('http://www.century21.com.tw'+ele['href']+'\\n')\n",
    "f.close()\n",
    "\n",
    "# 讀取url，並取得html存入檔案\n",
    "f = open('century21/century21.txt','r')\n",
    "for line in f.readlines():\n",
    "    res = requests.get(line.strip(), headers = headers)\n",
    "    file_name = line.split('/')[6].strip()\n",
    "    input_file = open('century21/'+file_name+'.txt', 'w')\n",
    "    input_file.write(res.text.encode('utf8'))\n",
    "    input_file.close()\n",
    "f.close()"
   ]
  }
 ],
 "metadata": {
  "kernelspec": {
   "display_name": "Python 2",
   "language": "python",
   "name": "python2"
  },
  "language_info": {
   "codemirror_mode": {
    "name": "ipython",
    "version": 2
   },
   "file_extension": ".py",
   "mimetype": "text/x-python",
   "name": "python",
   "nbconvert_exporter": "python",
   "pygments_lexer": "ipython2",
   "version": "2.7.10"
  }
 },
 "nbformat": 4,
 "nbformat_minor": 0
}
