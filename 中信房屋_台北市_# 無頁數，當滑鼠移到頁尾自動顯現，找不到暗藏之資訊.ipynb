{
 "cells": [
  {
   "cell_type": "code",
   "execution_count": 26,
   "metadata": {
    "collapsed": false
   },
   "outputs": [
    {
     "name": "stdout",
     "output_type": "stream",
     "text": [
      "/house/1102547\n",
      "/house/1101675\n",
      "/house/1101703\n",
      "/house/1067172\n",
      "/house/1067188\n",
      "/house/1065536\n",
      "/house/1065591\n",
      "/house/1065629\n",
      "3022\n"
     ]
    }
   ],
   "source": [
    "import requests\n",
    "from bs4 import BeautifulSoup\n",
    "from math import ceil\n",
    "\n",
    "res = requests.get('http://www.cthouse.com.tw/BuyingHouse/01')\n",
    "#print res.text\n",
    "soup = BeautifulSoup(res.text)\n",
    "\n",
    "\n",
    "for ele in soup.select('.search_list a'):\n",
    "    if len(ele.text.strip()) == 0:\n",
    "        print ele['href']\n",
    "    #print ele#['href']\n",
    "\n",
    "\n",
    "# 無頁數，當滑鼠移到頁尾自動顯現，找不到暗藏之資訊\n",
    "    \n",
    "    \n",
    "    \n",
    "    \n",
    "    \n",
    "# 取得資料總筆數、總共頁數:8 cases per page\n",
    "cases = soup.select('#htmlTotalCount')[0].text#.encode('utf8').split('：')[1]\n",
    "#pages = int(ceil(float(cases)/15))\n",
    "print cases\n",
    "#print pages"
   ]
  }
 ],
 "metadata": {
  "kernelspec": {
   "display_name": "Python 2",
   "language": "python",
   "name": "python2"
  },
  "language_info": {
   "codemirror_mode": {
    "name": "ipython",
    "version": 2
   },
   "file_extension": ".py",
   "mimetype": "text/x-python",
   "name": "python",
   "nbconvert_exporter": "python",
   "pygments_lexer": "ipython2",
   "version": "2.7.10"
  }
 },
 "nbformat": 4,
 "nbformat_minor": 0
}
