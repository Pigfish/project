{
 "cells": [
  {
   "cell_type": "code",
   "execution_count": 2,
   "metadata": {
    "collapsed": false
   },
   "outputs": [
    {
     "name": "stdout",
     "output_type": "stream",
     "text": [
      "5593\n",
      "280\n"
     ]
    }
   ],
   "source": [
    "import requests\n",
    "from bs4 import BeautifulSoup\n",
    "from math import ceil\n",
    "headers = {'Cookie':'SEID_G=025782ae-727d-4fe8-bcae-0d71bbef0098; TRID_G=43d66d99-83dd-417a-8a6f-f8b5f50eb222; WMX_Channel=,1,; _ga=GA1.3.1176354879.1437353785; __dmwsc=20141103q06ks0000u0000,kiivhxldd05dehuqb33dg4lh,dm00245; __ltmwga=utmcsr=localhost:8888|utmcmd=referral; _dc_gtm_UA-35108030-1=1; _gat_UA-35108030-1=1; yawbewkcehc=0; _ga=GA1.4.1176354879.1437353785; __asc=295bd4bb14ededc7ec595ba6c72; __auc=0d6c842114e9eaf22eacfdf702b; sto-id-%3Fv30%3FGroup-buy.yungching.com.tw%3A80=EEABBOKM'}\n",
    "\n",
    "res = requests.get('http://buy.yungching.com.tw/region/%E4%BD%8F%E5%AE%85_p/%E5%8F%B0%E5%8C%97%E5%B8%82-_c/', headers = headers)\n",
    "# print res.text\n",
    "\n",
    "soup = BeautifulSoup(res.text)\n",
    "\n",
    "# print dir(soup.select('.list-hd-inner a')[0])\n",
    "# print soup.select('.list-hd-inner a')[0].contents[0]\n",
    "# print dir(soup.select('.list-hd-inner a')[0].contents[0].text.split(' ')[1])\n",
    "# print soup.select('.list-hd-inner a')[0].contents[0].text.split('(')[1].split(')')[0]\n",
    "\n",
    "# 取得資料筆數、總頁數\n",
    "items = soup.select('.list-hd-inner a')[0].contents[0].text.split('(')[1].split(')')[0]\n",
    "print items\n",
    "pages = int(ceil(float(items)/ 20))\n",
    "print pages"
   ]
  },
  {
   "cell_type": "code",
   "execution_count": 4,
   "metadata": {
    "collapsed": false
   },
   "outputs": [
    {
     "name": "stdout",
     "output_type": "stream",
     "text": [
      "http://buy.yungching.com.tw/house/927596\n",
      "http://buy.yungching.com.tw/house/927597\n",
      "http://buy.yungching.com.tw/house/483926\n",
      "http://buy.yungching.com.tw/house/1771743\n",
      "http://buy.yungching.com.tw/house/1711798\n",
      "http://buy.yungching.com.tw/house/1778939\n",
      "http://buy.yungching.com.tw/house/1751158\n",
      "http://buy.yungching.com.tw/house/1685901\n",
      "http://buy.yungching.com.tw/house/554075\n",
      "http://buy.yungching.com.tw/house/1758694\n",
      "http://buy.yungching.com.tw/house/1332808\n",
      "http://buy.yungching.com.tw/house/1768571\n",
      "http://buy.yungching.com.tw/house/1424684\n",
      "http://buy.yungching.com.tw/house/8481\n",
      "http://buy.yungching.com.tw/house/1778738\n",
      "http://buy.yungching.com.tw/house/1176234\n",
      "http://buy.yungching.com.tw/house/1434510\n",
      "http://buy.yungching.com.tw/house/1644680\n",
      "http://buy.yungching.com.tw/house/1776354\n",
      "http://buy.yungching.com.tw/house/1157204\n"
     ]
    }
   ],
   "source": [
    "# 擷取超連結\n",
    "for ele in soup.select('.m-list-item'):\n",
    "    print 'http://buy.yungching.com.tw' + ele.select('a')[0]['href']"
   ]
  },
  {
   "cell_type": "code",
   "execution_count": 9,
   "metadata": {
    "collapsed": false
   },
   "outputs": [],
   "source": [
    "# 擷取每頁超連結，並存入檔案\n",
    "\n",
    "page_format = 'http://buy.yungching.com.tw/region/%E4%BD%8F%E5%AE%85_p/%E5%8F%B0%E5%8C%97%E5%B8%82-_c/?pg={}'\n",
    "\n",
    "f = open('yungching/yungching.txt','w')\n",
    "for page in range(1, pages +1): #pages\n",
    "    res = requests.get(page_format.format(page), headers = headers)\n",
    "    #print page_format.format(page)\n",
    "    soup = BeautifulSoup(res.text)\n",
    "    \n",
    "    for ele in soup.select('.m-list-item'):\n",
    "        #print 'http://buy.yungching.com.tw' + ele.select('a')[0]['href']\n",
    "        f.write('http://buy.yungching.com.tw' + ele.select('a')[0]['href']+'\\n')\n",
    "f.close()"
   ]
  },
  {
   "cell_type": "code",
   "execution_count": 16,
   "metadata": {
    "collapsed": false
   },
   "outputs": [
    {
     "ename": "ConnectionError",
     "evalue": "('Connection aborted.', error(10060, '\\xb3s\\xbdu\\xb9\\xc1\\xb8\\xd5\\xa5\\xa2\\xb1\\xd1\\xa1A\\xa6]\\xac\\xb0\\xb3s\\xbdu\\xb9\\xef\\xb6H\\xa6\\xb3\\xa4@\\xacq\\xae\\xc9\\xb6\\xa1\\xa8\\xc3\\xa5\\xbc\\xa5\\xbf\\xbdT\\xa6^\\xc0\\xb3\\xa1A\\xa9\\xce\\xacO\\xb3s\\xbdu\\xab\\xd8\\xa5\\xdf\\xa5\\xa2\\xb1\\xd1\\xa1A\\xa6]\\xac\\xb0\\xb3s\\xbdu\\xaa\\xba\\xa5D\\xbe\\xf7\\xb5L\\xaak\\xa6^\\xc0\\xb3\\xa1C'))",
     "output_type": "error",
     "traceback": [
      "\u001b[1;31m---------------------------------------------------------------------------\u001b[0m",
      "\u001b[1;31mConnectionError\u001b[0m                           Traceback (most recent call last)",
      "\u001b[1;32m<ipython-input-16-5b9c85c1e548>\u001b[0m in \u001b[0;36m<module>\u001b[1;34m()\u001b[0m\n\u001b[0;32m      2\u001b[0m \u001b[0mf\u001b[0m \u001b[1;33m=\u001b[0m \u001b[0mopen\u001b[0m\u001b[1;33m(\u001b[0m\u001b[1;34m'yungching/yungching.txt'\u001b[0m\u001b[1;33m,\u001b[0m\u001b[1;34m'r'\u001b[0m\u001b[1;33m)\u001b[0m\u001b[1;33m\u001b[0m\u001b[0m\n\u001b[0;32m      3\u001b[0m \u001b[1;32mfor\u001b[0m \u001b[0mline\u001b[0m \u001b[1;32min\u001b[0m \u001b[0mf\u001b[0m\u001b[1;33m.\u001b[0m\u001b[0mreadlines\u001b[0m\u001b[1;33m(\u001b[0m\u001b[1;33m)\u001b[0m\u001b[1;33m:\u001b[0m\u001b[1;33m\u001b[0m\u001b[0m\n\u001b[1;32m----> 4\u001b[1;33m     \u001b[0mres\u001b[0m \u001b[1;33m=\u001b[0m \u001b[0mrequests\u001b[0m\u001b[1;33m.\u001b[0m\u001b[0mget\u001b[0m\u001b[1;33m(\u001b[0m\u001b[0mline\u001b[0m\u001b[1;33m)\u001b[0m\u001b[1;33m\u001b[0m\u001b[0m\n\u001b[0m\u001b[0;32m      5\u001b[0m     \u001b[0mfile_name\u001b[0m \u001b[1;33m=\u001b[0m \u001b[0mline\u001b[0m\u001b[1;33m.\u001b[0m\u001b[0msplit\u001b[0m\u001b[1;33m(\u001b[0m\u001b[1;34m'/'\u001b[0m\u001b[1;33m)\u001b[0m\u001b[1;33m[\u001b[0m\u001b[1;36m4\u001b[0m\u001b[1;33m]\u001b[0m\u001b[1;33m.\u001b[0m\u001b[0mstrip\u001b[0m\u001b[1;33m(\u001b[0m\u001b[1;33m)\u001b[0m\u001b[1;33m\u001b[0m\u001b[0m\n\u001b[0;32m      6\u001b[0m     \u001b[0minput_file\u001b[0m \u001b[1;33m=\u001b[0m \u001b[0mopen\u001b[0m\u001b[1;33m(\u001b[0m\u001b[1;34m'yungching/'\u001b[0m\u001b[1;33m+\u001b[0m\u001b[0mfile_name\u001b[0m\u001b[1;33m+\u001b[0m\u001b[1;34m'.txt'\u001b[0m\u001b[1;33m,\u001b[0m \u001b[1;34m'w'\u001b[0m\u001b[1;33m)\u001b[0m\u001b[1;33m\u001b[0m\u001b[0m\n",
      "\u001b[1;32mC:\\Python27\\lib\\site-packages\\requests\\api.pyc\u001b[0m in \u001b[0;36mget\u001b[1;34m(url, params, **kwargs)\u001b[0m\n\u001b[0;32m     67\u001b[0m \u001b[1;33m\u001b[0m\u001b[0m\n\u001b[0;32m     68\u001b[0m     \u001b[0mkwargs\u001b[0m\u001b[1;33m.\u001b[0m\u001b[0msetdefault\u001b[0m\u001b[1;33m(\u001b[0m\u001b[1;34m'allow_redirects'\u001b[0m\u001b[1;33m,\u001b[0m \u001b[0mTrue\u001b[0m\u001b[1;33m)\u001b[0m\u001b[1;33m\u001b[0m\u001b[0m\n\u001b[1;32m---> 69\u001b[1;33m     \u001b[1;32mreturn\u001b[0m \u001b[0mrequest\u001b[0m\u001b[1;33m(\u001b[0m\u001b[1;34m'get'\u001b[0m\u001b[1;33m,\u001b[0m \u001b[0murl\u001b[0m\u001b[1;33m,\u001b[0m \u001b[0mparams\u001b[0m\u001b[1;33m=\u001b[0m\u001b[0mparams\u001b[0m\u001b[1;33m,\u001b[0m \u001b[1;33m**\u001b[0m\u001b[0mkwargs\u001b[0m\u001b[1;33m)\u001b[0m\u001b[1;33m\u001b[0m\u001b[0m\n\u001b[0m\u001b[0;32m     70\u001b[0m \u001b[1;33m\u001b[0m\u001b[0m\n\u001b[0;32m     71\u001b[0m \u001b[1;33m\u001b[0m\u001b[0m\n",
      "\u001b[1;32mC:\\Python27\\lib\\site-packages\\requests\\api.pyc\u001b[0m in \u001b[0;36mrequest\u001b[1;34m(method, url, **kwargs)\u001b[0m\n\u001b[0;32m     48\u001b[0m \u001b[1;33m\u001b[0m\u001b[0m\n\u001b[0;32m     49\u001b[0m     \u001b[0msession\u001b[0m \u001b[1;33m=\u001b[0m \u001b[0msessions\u001b[0m\u001b[1;33m.\u001b[0m\u001b[0mSession\u001b[0m\u001b[1;33m(\u001b[0m\u001b[1;33m)\u001b[0m\u001b[1;33m\u001b[0m\u001b[0m\n\u001b[1;32m---> 50\u001b[1;33m     \u001b[0mresponse\u001b[0m \u001b[1;33m=\u001b[0m \u001b[0msession\u001b[0m\u001b[1;33m.\u001b[0m\u001b[0mrequest\u001b[0m\u001b[1;33m(\u001b[0m\u001b[0mmethod\u001b[0m\u001b[1;33m=\u001b[0m\u001b[0mmethod\u001b[0m\u001b[1;33m,\u001b[0m \u001b[0murl\u001b[0m\u001b[1;33m=\u001b[0m\u001b[0murl\u001b[0m\u001b[1;33m,\u001b[0m \u001b[1;33m**\u001b[0m\u001b[0mkwargs\u001b[0m\u001b[1;33m)\u001b[0m\u001b[1;33m\u001b[0m\u001b[0m\n\u001b[0m\u001b[0;32m     51\u001b[0m     \u001b[1;31m# By explicitly closing the session, we avoid leaving sockets open which\u001b[0m\u001b[1;33m\u001b[0m\u001b[1;33m\u001b[0m\u001b[0m\n\u001b[0;32m     52\u001b[0m     \u001b[1;31m# can trigger a ResourceWarning in some cases, and look like a memory leak\u001b[0m\u001b[1;33m\u001b[0m\u001b[1;33m\u001b[0m\u001b[0m\n",
      "\u001b[1;32mC:\\Python27\\lib\\site-packages\\requests\\sessions.pyc\u001b[0m in \u001b[0;36mrequest\u001b[1;34m(self, method, url, params, data, headers, cookies, files, auth, timeout, allow_redirects, proxies, hooks, stream, verify, cert, json)\u001b[0m\n\u001b[0;32m    463\u001b[0m         }\n\u001b[0;32m    464\u001b[0m         \u001b[0msend_kwargs\u001b[0m\u001b[1;33m.\u001b[0m\u001b[0mupdate\u001b[0m\u001b[1;33m(\u001b[0m\u001b[0msettings\u001b[0m\u001b[1;33m)\u001b[0m\u001b[1;33m\u001b[0m\u001b[0m\n\u001b[1;32m--> 465\u001b[1;33m         \u001b[0mresp\u001b[0m \u001b[1;33m=\u001b[0m \u001b[0mself\u001b[0m\u001b[1;33m.\u001b[0m\u001b[0msend\u001b[0m\u001b[1;33m(\u001b[0m\u001b[0mprep\u001b[0m\u001b[1;33m,\u001b[0m \u001b[1;33m**\u001b[0m\u001b[0msend_kwargs\u001b[0m\u001b[1;33m)\u001b[0m\u001b[1;33m\u001b[0m\u001b[0m\n\u001b[0m\u001b[0;32m    466\u001b[0m \u001b[1;33m\u001b[0m\u001b[0m\n\u001b[0;32m    467\u001b[0m         \u001b[1;32mreturn\u001b[0m \u001b[0mresp\u001b[0m\u001b[1;33m\u001b[0m\u001b[0m\n",
      "\u001b[1;32mC:\\Python27\\lib\\site-packages\\requests\\sessions.pyc\u001b[0m in \u001b[0;36msend\u001b[1;34m(self, request, **kwargs)\u001b[0m\n\u001b[0;32m    571\u001b[0m \u001b[1;33m\u001b[0m\u001b[0m\n\u001b[0;32m    572\u001b[0m         \u001b[1;31m# Send the request\u001b[0m\u001b[1;33m\u001b[0m\u001b[1;33m\u001b[0m\u001b[0m\n\u001b[1;32m--> 573\u001b[1;33m         \u001b[0mr\u001b[0m \u001b[1;33m=\u001b[0m \u001b[0madapter\u001b[0m\u001b[1;33m.\u001b[0m\u001b[0msend\u001b[0m\u001b[1;33m(\u001b[0m\u001b[0mrequest\u001b[0m\u001b[1;33m,\u001b[0m \u001b[1;33m**\u001b[0m\u001b[0mkwargs\u001b[0m\u001b[1;33m)\u001b[0m\u001b[1;33m\u001b[0m\u001b[0m\n\u001b[0m\u001b[0;32m    574\u001b[0m \u001b[1;33m\u001b[0m\u001b[0m\n\u001b[0;32m    575\u001b[0m         \u001b[1;31m# Total elapsed time of the request (approximately)\u001b[0m\u001b[1;33m\u001b[0m\u001b[1;33m\u001b[0m\u001b[0m\n",
      "\u001b[1;32mC:\\Python27\\lib\\site-packages\\requests\\adapters.pyc\u001b[0m in \u001b[0;36msend\u001b[1;34m(self, request, stream, timeout, verify, cert, proxies)\u001b[0m\n\u001b[0;32m    413\u001b[0m \u001b[1;33m\u001b[0m\u001b[0m\n\u001b[0;32m    414\u001b[0m         \u001b[1;32mexcept\u001b[0m \u001b[1;33m(\u001b[0m\u001b[0mProtocolError\u001b[0m\u001b[1;33m,\u001b[0m \u001b[0msocket\u001b[0m\u001b[1;33m.\u001b[0m\u001b[0merror\u001b[0m\u001b[1;33m)\u001b[0m \u001b[1;32mas\u001b[0m \u001b[0merr\u001b[0m\u001b[1;33m:\u001b[0m\u001b[1;33m\u001b[0m\u001b[0m\n\u001b[1;32m--> 415\u001b[1;33m             \u001b[1;32mraise\u001b[0m \u001b[0mConnectionError\u001b[0m\u001b[1;33m(\u001b[0m\u001b[0merr\u001b[0m\u001b[1;33m,\u001b[0m \u001b[0mrequest\u001b[0m\u001b[1;33m=\u001b[0m\u001b[0mrequest\u001b[0m\u001b[1;33m)\u001b[0m\u001b[1;33m\u001b[0m\u001b[0m\n\u001b[0m\u001b[0;32m    416\u001b[0m \u001b[1;33m\u001b[0m\u001b[0m\n\u001b[0;32m    417\u001b[0m         \u001b[1;32mexcept\u001b[0m \u001b[0mMaxRetryError\u001b[0m \u001b[1;32mas\u001b[0m \u001b[0me\u001b[0m\u001b[1;33m:\u001b[0m\u001b[1;33m\u001b[0m\u001b[0m\n",
      "\u001b[1;31mConnectionError\u001b[0m: ('Connection aborted.', error(10060, '\\xb3s\\xbdu\\xb9\\xc1\\xb8\\xd5\\xa5\\xa2\\xb1\\xd1\\xa1A\\xa6]\\xac\\xb0\\xb3s\\xbdu\\xb9\\xef\\xb6H\\xa6\\xb3\\xa4@\\xacq\\xae\\xc9\\xb6\\xa1\\xa8\\xc3\\xa5\\xbc\\xa5\\xbf\\xbdT\\xa6^\\xc0\\xb3\\xa1A\\xa9\\xce\\xacO\\xb3s\\xbdu\\xab\\xd8\\xa5\\xdf\\xa5\\xa2\\xb1\\xd1\\xa1A\\xa6]\\xac\\xb0\\xb3s\\xbdu\\xaa\\xba\\xa5D\\xbe\\xf7\\xb5L\\xaak\\xa6^\\xc0\\xb3\\xa1C'))"
     ]
    }
   ],
   "source": [
    "# 讀取url，並取得html存入檔案\n",
    "f = open('yungching/yungching.txt','r')\n",
    "for line in f.readlines():\n",
    "    res = requests.get(line)\n",
    "    file_name = line.split('/')[4].strip()\n",
    "    input_file = open('yungching/'+file_name+'.txt', 'w')\n",
    "    input_file.write(res.text.encode('utf8'))\n",
    "    input_file.close()\n",
    "f.close()"
   ]
  },
  {
   "cell_type": "code",
   "execution_count": null,
   "metadata": {
    "collapsed": true
   },
   "outputs": [],
   "source": [
    "# final 版本\n",
    "import requests\n",
    "from bs4 import BeautifulSoup\n",
    "from math import ceil\n",
    "\n",
    "headers = {'Cookie':'SEID_G=025782ae-727d-4fe8-bcae-0d71bbef0098; TRID_G=43d66d99-83dd-417a-8a6f-f8b5f50eb222; WMX_Channel=,1,; _ga=GA1.3.1176354879.1437353785; __dmwsc=20141103q06ks0000u0000,kiivhxldd05dehuqb33dg4lh,dm00245; __ltmwga=utmcsr=localhost:8888|utmcmd=referral; _dc_gtm_UA-35108030-1=1; _gat_UA-35108030-1=1; yawbewkcehc=0; _ga=GA1.4.1176354879.1437353785; __asc=295bd4bb14ededc7ec595ba6c72; __auc=0d6c842114e9eaf22eacfdf702b; sto-id-%3Fv30%3FGroup-buy.yungching.com.tw%3A80=EEABBOKM'}\n",
    "res = requests.get('http://buy.yungching.com.tw/region/%E4%BD%8F%E5%AE%85_p/%E5%8F%B0%E5%8C%97%E5%B8%82-_c/', headers = headers)\n",
    "soup = BeautifulSoup(res.text)\n",
    "\n",
    "# 取得資料筆數、總頁數:每頁20筆\n",
    "items = soup.select('.list-hd-inner a')[0].contents[0].text.split('(')[1].split(')')[0]\n",
    "pages = int(ceil(float(items)/ 20))\n",
    "\n",
    "# 擷取每頁超連結，並存入檔案\n",
    "page_format = 'http://buy.yungching.com.tw/region/%E4%BD%8F%E5%AE%85_p/%E5%8F%B0%E5%8C%97%E5%B8%82-_c/?pg={}'\n",
    "f = open('yungching/yungching.txt','w')\n",
    "for page in range(1, pages +1): #pages\n",
    "    res = requests.get(page_format.format(page), headers = headers)\n",
    "    soup = BeautifulSoup(res.text)    \n",
    "    for ele in soup.select('.m-list-item'):        \n",
    "        f.write('http://buy.yungching.com.tw' + ele.select('a')[0]['href']+'\\n')\n",
    "f.close()\n",
    "\n"
   ]
  }
 ],
 "metadata": {
  "kernelspec": {
   "display_name": "Python 2",
   "language": "python",
   "name": "python2"
  },
  "language_info": {
   "codemirror_mode": {
    "name": "ipython",
    "version": 2
   },
   "file_extension": ".py",
   "mimetype": "text/x-python",
   "name": "python",
   "nbconvert_exporter": "python",
   "pygments_lexer": "ipython2",
   "version": "2.7.10"
  }
 },
 "nbformat": 4,
 "nbformat_minor": 0
}
